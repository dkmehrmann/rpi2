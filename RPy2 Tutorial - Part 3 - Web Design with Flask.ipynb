{
 "cells": [
  {
   "cell_type": "markdown",
   "metadata": {},
   "source": [
    "# Linux/Python Tutorial\n",
    "#### Lesson 3: Using Flask\n",
    "\n",
    "This lesson will closely follow [this tutorial](https://www.raspberrypi.org/learning/python-web-server-with-flask/worksheet/), but will put it in a more useable IPython Notebook format.\n",
    "\n",
    "## Setup"
   ]
  },
  {
   "cell_type": "code",
   "execution_count": 1,
   "metadata": {
    "collapsed": false
   },
   "outputs": [
    {
     "name": "stdout",
     "output_type": "stream",
     "text": [
      "Reading package lists... Done\n",
      "Building dependency tree       \n",
      "Reading state information... Done\n",
      "python-pip is already the newest version.\n",
      "0 upgraded, 0 newly installed, 0 to remove and 99 not upgraded.\n"
     ]
    }
   ],
   "source": [
    "!sudo apt-get install python-pip"
   ]
  },
  {
   "cell_type": "code",
   "execution_count": 2,
   "metadata": {
    "collapsed": false
   },
   "outputs": [
    {
     "name": "stdout",
     "output_type": "stream",
     "text": [
      "Downloading/unpacking flask\n",
      "  Downloading Flask-0.10.1.tar.gz (544kB): 544kB downloaded\n",
      "  Running setup.py (path:/tmp/pip-build-ZD52vI/flask/setup.py) egg_info for package flask\n",
      "    \n",
      "    warning: no files found matching '*' under directory 'tests'\n",
      "    warning: no previously-included files matching '*.pyc' found under directory 'docs'\n",
      "    warning: no previously-included files matching '*.pyo' found under directory 'docs'\n",
      "    warning: no previously-included files matching '*.pyc' found under directory 'tests'\n",
      "    warning: no previously-included files matching '*.pyo' found under directory 'tests'\n",
      "    warning: no previously-included files matching '*.pyc' found under directory 'examples'\n",
      "    warning: no previously-included files matching '*.pyo' found under directory 'examples'\n",
      "    no previously-included directories found matching 'docs/_build'\n",
      "    no previously-included directories found matching 'docs/_themes/.git'\n",
      "Downloading/unpacking Werkzeug>=0.7 (from flask)\n",
      "  Downloading Werkzeug-0.11.3-py2.py3-none-any.whl (305kB): 305kB downloaded\n",
      "Requirement already satisfied (use --upgrade to upgrade): Jinja2>=2.4 in /usr/lib/python2.7/dist-packages (from flask)\n",
      "Downloading/unpacking itsdangerous>=0.21 (from flask)\n",
      "  Downloading itsdangerous-0.24.tar.gz (46kB): 46kB downloaded\n",
      "  Running setup.py (path:/tmp/pip-build-ZD52vI/itsdangerous/setup.py) egg_info for package itsdangerous\n",
      "    \n",
      "    warning: no previously-included files matching '*' found under directory 'docs/_build'\n",
      "Requirement already satisfied (use --upgrade to upgrade): markupsafe in /usr/lib/python2.7/dist-packages (from Jinja2>=2.4->flask)\n",
      "Installing collected packages: flask, Werkzeug, itsdangerous\n",
      "  Running setup.py install for flask\n",
      "    \n",
      "    warning: no files found matching '*' under directory 'tests'\n",
      "    warning: no previously-included files matching '*.pyc' found under directory 'docs'\n",
      "    warning: no previously-included files matching '*.pyo' found under directory 'docs'\n",
      "    warning: no previously-included files matching '*.pyc' found under directory 'tests'\n",
      "    warning: no previously-included files matching '*.pyo' found under directory 'tests'\n",
      "    warning: no previously-included files matching '*.pyc' found under directory 'examples'\n",
      "    warning: no previously-included files matching '*.pyo' found under directory 'examples'\n",
      "    no previously-included directories found matching 'docs/_build'\n",
      "    no previously-included directories found matching 'docs/_themes/.git'\n",
      "  Running setup.py install for itsdangerous\n",
      "    \n",
      "    warning: no previously-included files matching '*' found under directory 'docs/_build'\n",
      "Successfully installed flask Werkzeug itsdangerous\n",
      "Cleaning up...\n"
     ]
    }
   ],
   "source": [
    "!sudo pip install flask"
   ]
  },
  {
   "cell_type": "markdown",
   "metadata": {},
   "source": [
    "## Navigating to the right place"
   ]
  },
  {
   "cell_type": "code",
   "execution_count": 73,
   "metadata": {
    "collapsed": false
   },
   "outputs": [],
   "source": [
    "%%bash\n",
    "cd ~\n",
    "mkdir -p webapp"
   ]
  },
  {
   "cell_type": "markdown",
   "metadata": {},
   "source": [
    "## Flask Code\n",
    "\n",
    "This cell will create a text file called `app.py` in the current directory, which is `webapp`. Since this text file ends in `.py`, we can run it as a Python program. We write the code to run the Flask server in the cell below. That way, if we want to change something, we can just run the following cell again and the code for the server will be overwritten with the new code."
   ]
  },
  {
   "cell_type": "code",
   "execution_count": 74,
   "metadata": {
    "collapsed": false
   },
   "outputs": [
    {
     "name": "stdout",
     "output_type": "stream",
     "text": [
      "Overwriting /home/pi/webapp/app.py\n"
     ]
    }
   ],
   "source": [
    "%%writefile ~/webapp/app.py\n",
    "\n",
    "from flask import Flask\n",
    "\n",
    "app = Flask(__name__)\n",
    "\n",
    "@app.route('/')\n",
    "def index():\n",
    "    return 'Katies Cool ' * 1000\n",
    "\n",
    "if __name__ == '__main__':\n",
    "    app.run(debug=True, host='0.0.0.0')"
   ]
  },
  {
   "cell_type": "markdown",
   "metadata": {},
   "source": [
    "To run the server, run the following cell. The bash cell magic with the `--bg` flags will allow you to keep using the IPython notebook while the server is run in the *background*. "
   ]
  },
  {
   "cell_type": "code",
   "execution_count": 75,
   "metadata": {
    "collapsed": false
   },
   "outputs": [
    {
     "name": "stdout",
     "output_type": "stream",
     "text": [
      "Starting job # 10 in a separate thread.\n"
     ]
    }
   ],
   "source": [
    "%%bash --bg\n",
    "cd ~/webapp/\n",
    "python app.py"
   ]
  },
  {
   "cell_type": "markdown",
   "metadata": {},
   "source": [
    "To access from some other device, navigate to:\n"
   ]
  },
  {
   "cell_type": "code",
   "execution_count": null,
   "metadata": {
    "collapsed": false
   },
   "outputs": [],
   "source": [
    "host = !hostname -I\n",
    "'http://' + host[0][:-1] + ':5000/'"
   ]
  },
  {
   "cell_type": "markdown",
   "metadata": {},
   "source": [
    "## Templates\n",
    "\n",
    "You can use HTML templates to make more formatted web pages. We'll first create a directory to store these templates called `templates`."
   ]
  },
  {
   "cell_type": "code",
   "execution_count": 77,
   "metadata": {
    "collapsed": false
   },
   "outputs": [],
   "source": [
    "%%bash\n",
    "cd ~/webapp\n",
    "mkdir -p templates"
   ]
  },
  {
   "cell_type": "markdown",
   "metadata": {},
   "source": [
    "Let's write a simple template. This cell will write the HTML code into and HTML file in `templates`."
   ]
  },
  {
   "cell_type": "code",
   "execution_count": 78,
   "metadata": {
    "collapsed": false
   },
   "outputs": [
    {
     "name": "stdout",
     "output_type": "stream",
     "text": [
      "Overwriting /home/pi/webapp/templates/index.html\n"
     ]
    }
   ],
   "source": [
    "%%writefile ~/webapp/templates/index.html\n",
    "\n",
    "<html>\n",
    "<body>\n",
    "<h1>Hello from a template!</h1>\n",
    "</body>\n",
    "</html>"
   ]
  },
  {
   "cell_type": "markdown",
   "metadata": {},
   "source": [
    "Then rewrite the Flask application to call the template"
   ]
  },
  {
   "cell_type": "code",
   "execution_count": 79,
   "metadata": {
    "collapsed": false
   },
   "outputs": [
    {
     "name": "stdout",
     "output_type": "stream",
     "text": [
      "Overwriting /home/pi/webapp/app.py\n"
     ]
    }
   ],
   "source": [
    "%%writefile ~/webapp/app.py\n",
    "\n",
    "from flask import Flask, render_template\n",
    "\n",
    "app = Flask(__name__)\n",
    "\n",
    "@app.route('/')\n",
    "def index():\n",
    "    return render_template('index.html')\n",
    "\n",
    "if __name__ == '__main__':\n",
    "    app.run(debug=True, host='0.0.0.0')"
   ]
  },
  {
   "cell_type": "markdown",
   "metadata": {},
   "source": [
    "## Shutting the Server Down\n",
    "\n",
    "Keeping the server running will keep port 5000 occupied at all times. This isn't really a big deal, but in case you want to shut the server down we can write in a route that will shut down the Flask server if we navigate to it. Notice the code below adds the route `/shutdown` and kills the server. Run the following, then try to navigate to `127.0.0.1/shutdown`."
   ]
  },
  {
   "cell_type": "code",
   "execution_count": 82,
   "metadata": {
    "collapsed": false
   },
   "outputs": [
    {
     "name": "stdout",
     "output_type": "stream",
     "text": [
      "Overwriting /home/pi/webapp/app.py\n"
     ]
    }
   ],
   "source": [
    "%%writefile ~/webapp/app.py\n",
    "\n",
    "from flask import Flask, render_template\n",
    "\n",
    "app = Flask(__name__)\n",
    "\n",
    "@app.route('/')\n",
    "def index():\n",
    "    return render_template('index.html')\n",
    "\n",
    "from flask import request\n",
    "\n",
    "def shutdown_server():\n",
    "    func = request.environ.get('werkzeug.server.shutdown')\n",
    "    if func is None:\n",
    "        raise RuntimeError('Not running with the Werkzeug Server')\n",
    "    func()\n",
    "\n",
    "@app.route('/shutdown', methods=['GET', 'POST'])\n",
    "def shutdown():\n",
    "    shutdown_server()\n",
    "    return 'Server shutting down...'\n",
    "\n",
    "if __name__ == '__main__':\n",
    "    app.run(debug=True, host='0.0.0.0')"
   ]
  },
  {
   "cell_type": "markdown",
   "metadata": {},
   "source": [
    "To get the server running again, run the following:"
   ]
  },
  {
   "cell_type": "code",
   "execution_count": 83,
   "metadata": {
    "collapsed": false
   },
   "outputs": [
    {
     "name": "stdout",
     "output_type": "stream",
     "text": [
      "Starting job # 11 in a separate thread.\n"
     ]
    }
   ],
   "source": [
    "%%bash --bg\n",
    "cd ~/webapp/\n",
    "python app.py"
   ]
  },
  {
   "cell_type": "markdown",
   "metadata": {},
   "source": [
    "Let's use a link within the index template to shutdown the server instead of remembering where to navigate each time we want to shut down."
   ]
  },
  {
   "cell_type": "code",
   "execution_count": 84,
   "metadata": {
    "collapsed": false
   },
   "outputs": [
    {
     "name": "stdout",
     "output_type": "stream",
     "text": [
      "Overwriting /home/pi/webapp/templates/index.html\n"
     ]
    }
   ],
   "source": [
    "%%writefile ~/webapp/templates/index.html\n",
    "\n",
    "<html>\n",
    "<body>\n",
    "<h1>Hello from a template!</h1>\n",
    "<a href=\"/shutdown\">Shutdown Server</a>\n",
    "</body>\n",
    "</html>"
   ]
  },
  {
   "cell_type": "markdown",
   "metadata": {},
   "source": [
    "Refresh your page, then try the shutdown link. To get the server running again, run the following"
   ]
  },
  {
   "cell_type": "code",
   "execution_count": 85,
   "metadata": {
    "collapsed": false
   },
   "outputs": [
    {
     "name": "stdout",
     "output_type": "stream",
     "text": [
      "Starting job # 12 in a separate thread.\n"
     ]
    }
   ],
   "source": [
    "%%bash --bg\n",
    "cd ~/webapp/\n",
    "python app.py"
   ]
  },
  {
   "cell_type": "markdown",
   "metadata": {},
   "source": [
    "Now that you've got the basics, you can try [this](http://mattrichardson.com/Raspberry-Pi-Flask/index.html) physical computing project.\n",
    "\n",
    "You might find it useful to [share your Flask server with a friend](http://flask.pocoo.org/snippets/89/)"
   ]
  },
  {
   "cell_type": "code",
   "execution_count": null,
   "metadata": {
    "collapsed": true
   },
   "outputs": [],
   "source": []
  }
 ],
 "metadata": {
  "kernelspec": {
   "display_name": "Python 3",
   "language": "python",
   "name": "python3"
  },
  "language_info": {
   "codemirror_mode": {
    "name": "ipython",
    "version": 3
   },
   "file_extension": ".py",
   "mimetype": "text/x-python",
   "name": "python",
   "nbconvert_exporter": "python",
   "pygments_lexer": "ipython3",
   "version": "3.4.2"
  }
 },
 "nbformat": 4,
 "nbformat_minor": 0
}
