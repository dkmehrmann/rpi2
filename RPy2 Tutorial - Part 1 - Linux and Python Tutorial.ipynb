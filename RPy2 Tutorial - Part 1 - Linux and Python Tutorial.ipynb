{
 "cells": [
  {
   "cell_type": "markdown",
   "metadata": {},
   "source": [
    "# Linux/Python Tutorial\n",
    "\n",
    "### Lesson 1: Linux Command Line and IPython Notebooks\n",
    "\n",
    "Probably the most important and time-saving thing you should learn about Linux is to make sure everything is up to date. Countless times I've spent hours trying to get something to work that could have been fixed if I had run the following command before getting started:\n",
    "\n",
    "    sudo apt-get update\n",
    "\n",
    "You probably don't know what that means yet or even what I mean by *Linux* or *command line*, but that's OK. Since it might take a while if this is the first time you've run it lets just get it going and then I'll explain everything in more detail. \n",
    "\n",
    "Make sure your Raspberry Pi is connected to the internet first, then, in the top left of the desktop, click the icon that looks like a blank monitor then type `sudo apt-get update` and press Enter. You can also copy and paste but CTRL-V will not work, so you'll have to use the left-click method."
   ]
  },
  {
   "cell_type": "markdown",
   "metadata": {},
   "source": [
    "## Linux and the Command Line\n",
    "\n",
    "Now that we've got that running lets talk about Linux and the Command Line Interface (CLI) in more detail. Linux is a computer operating system popular among software developers that is completely free and *open-source*. Almost all of the world's supercoputers use Linux in one form or another and it is the leading operating system for servers. Linux is part of the *Unix-like* family of operating systems which includes OS X and Android. Unlike OS X, Linux is open-source, meaning it is run and maintained by a community of people instead of a company. This also means anybody can contribute changes or upgrades to Linux, pending approval by members of the community. Why would anybody want to work on Linux for free? I have no idea, but the system works very well as evidenced by its widespread use by people who, quite frankly, know what they're talking about. \n",
    "\n",
    "There are many *distributions* of Linux, including Ubuntu and Raspbian. Ubuntu is the most popular distribution for personal computers, and Raspbian is the one that comes with the RPi2. The two *interfaces* that Raspbian offers are the Graphical User Interface (GUI) and the Command Line Interface (CLI). The GUI is what you are used to, with colorful graphics and clickable icons, and it is the one you are looking at now. If you want to know what the CLI looks like, open a Terminal window. That's it. When computers were first invented, this was all they had to work with. GUIs make certain things very convenient, such as browsing the web or drawing a picture. We will see later that the command line is very useful for interfacing with the Linux OS as well as the file system in ways that could not easily be done through the GUI.\n",
    "\n",
    "Open a Terminal window and lets go over the fundamentals. You should see something that looks like this:\n",
    "\n",
    "    pi@raspberrypi ~ $ \n",
    "\n",
    "`pi` is your username and `raspberrypi` is the *hostname*, or the name of the computer you're working on. Read out loud, it makes sense...pi at raspberrypi. $ is the end character, letting you know that it is ready to accept your commands. The thing in the middle, `~`, is your location within the file system. `~` is shorthand for your *home directory*. You can think of this as the place to store all of your *directories* or folders. If you are unsure of which directory you are in, just type \n",
    "\n",
    "    pwd\n",
    "\n",
    "which will show your *present working directory*. Go ahead and type \n",
    "\n",
    "    ls\n",
    "    \n",
    "This will show (or *list*, hence `ls`) the contents of your current directory.  The items in blue are *directories*, and the items in white are *files*. Directories are the same as folders. If you'd like to enter a directory, use the command \n",
    "\n",
    "    cd\n",
    "\n",
    "for *change directory*. Go ahead and try the following commands and try to understand what is going on:\n",
    "\n",
    "    cd python_games/\n",
    "    pwd\n",
    "    ls\n",
    "\n",
    "The first command changes the working directory to `python_games`. The second one outputs your present working directory which is `python_games`, since you just moved there. You might notice that it is listed as something like `/home/pi/python_games`. This is the same as `~/python_games`, which makes sense because you started in `~`, then moved from `~` to `python_games`. To be clear, `~` is shorthand for `/home/<user>`, where `<user>` in this case is `pi`. The directory structure is tree-like, so when you move from `~` to `python_games`, this is listed as `~/python_games`. Take a look at the output of `ls`. You might notice that there are some files that end in `.py`. These are some Python programs that come with Raspbian. To list only the Python programs, you can type \n",
    "\n",
    "    ls *.py\n",
    "\n",
    "The `*` character is a *wildcard*, which will act as any character or combination of characters. Therefore, `ls *.py` lists all files that end in `.py`. You might have noticed from the name of the directory that these files are actually simple games written in the Python programming language. We will learn how to run these files in a future section, but for now we're just exploring. To examine the contents of one of the python files, you can type \n",
    "\n",
    "    cat <filename>\n",
    "    \n",
    "Try `cat flippy.py`. Everything that the Terminal spit out after you typed that command is the contents of the file `flippy.py`. This is what Python programs look like. If that is too much to read at once, just type \n",
    "\n",
    "    more flippy.py\n",
    "    \n",
    "This will start at the beginning and show you a new line each time you press Enter. If you don't feel like reading the whole file, simply press CTRL+C to get back to a fresh prompt. CTRL+C is the way to escape from commands you've entered. Some commands, like `top`, will run indefinitely until you tell it to stop. Go ahead and enter `top`, which will print out system information on CPU usage, memory usage, and which processes are running. To get back to a fresh prompt, use CTRL+C to exit the `top` program.  \n",
    "\n",
    "You can enter the command \n",
    "\n",
    "    cd ..\n",
    "    \n",
    "when you are done looking around the `python_programs` directory. This changes the working directory from the current one to one level up. This means we will move from `/home/pi/python_games` to `/home/pi`, or `~`. This is a common method of \"backing up\" when exploring the Linux file system. Try moving around the file system, exploring directories, and examining the contents of files. Being comfortable navigating the file system is crucial to working with Linux from the command line.\n",
    "\n",
    "\n",
    "## IPython Notebooks\n",
    "\n",
    "The document you are looking at is called an IPython Notebook or Jupyter Notebook. The file extension `.ipynb` comes from this fact. Recently, the IPython Notebook project has been overtaken by The Jupyter project, which results in the confusion. Whatever you call it, it is a powerful and popular *Interactive Development Environment* or IDE used mainly for the *Python* programming language. Confused yet? That's OK, we'll talk about all of that in more detail.\n",
    "\n",
    "#### Python\n",
    "Python is a high-level programming language, meaning it is easier to read and write than something like C or C++. High-level languages are great for learning, but have performance disadvantages. That's why most of the underlying code in a computer is written in low-level languages like assembly and machine code. Nevertheless, Python can be used for lots of applications where speed and efficiency aren't really a concern.\n",
    "\n",
    "Python programs come in the form of scripts, which are simply text files with the file extension `.py`. If I had a program called `test.py`, I'd run it by typing\n",
    "\n",
    "    python test.py\n",
    "\n",
    "in the command line. Try navigating to the directory `~/python_games`. Once inside, run `ls *.py` to view all the python files. Choose one you'd like to try, and type\n",
    "\n",
    "    python <filename>.py\n",
    "    \n",
    "which will launch the game of your choice. For example, if you wanted to play a game called flippy, you would type `python flippy.py`. Once you get comfortable with Python, you will by able to edit the code files to make changes to these games and see your modifications come to life. To get your terminal to return to accepting commands, either use CTRL+C or simply close the window that opened when you launched the Python game. \n",
    "\n",
    "One unfortunate reality of programming is that significant time will be spent *debugging*, or fixing mistakes in the code. Mistakes come in two basic forms, syntax and runtime. Syntax errors occur when you type something in the wrong format. Think forgetting a space or putting a decimal in the wrong place. Runtime errors occur when the code instructs the computer to do something it is unable to do. Think dividing by zero. If I write a Python script that has a mistake in it, either syntactical or runtime, I would have to open up the text file and edit the code within, then rerun the entire program in order to debug. If my program was 1000 lines long and took an hour to run, you can imagine my frustration if it errored out on line 965 and had to spend another hour running it. IPython is a great way for avoiding those kinds of frustrations and a great tool for learning Python.\n",
    "\n",
    "#### IPython\n",
    "\n",
    "IPython is short for *Interactive Python* and allows you to run one line of code at a time. You can take it for a test drive by typing \n",
    "\n",
    "    ipython\n",
    "\n",
    "into the command line. You may get a message saying something to the effect of ipython not being installed. This is where Linux shines, because installing ipython couldn't be easier. To get ipython, you can simply type \n",
    "\n",
    "    sudo apt-get ipython\n",
    "\n",
    "and wait for it to finish downloading an installing (just make sure `sudo apt-get update` has finished running first). That's it. And since Python is *open source*, virtually every add-on or spin-off will be totally free. \n",
    "\n",
    "Now try typing `ipython` and you should get something that looks like this:\n",
    "\n",
    "    In [1]:\n",
    "\n",
    "Try typing a simple python command, like `2+2`. Notice that `In` is for input and `Out` is for the output that Python provides. Try something more complicated like\n",
    "\n",
    "    In [2]: a = [1,2,3]\n",
    "    In [3]: a\n",
    "\n",
    "`In [2]` shows how to *assign* (`=`) some *object* (`[1,2,3]`) to a *variable* (`a`). `In [3]`, simply issues the name of the variable to print the object to `Out`. We'll go into details on what all of that means later, but for now we'll just try things out and play with the IPython interpreter. The only way to learn to program is to try things, get errors, figure out why, and adjust your method. \n",
    "\n",
    "Try `a*2`. You'll notice that you didn't get the output you'd expect. Instead of multiplying each element of `a` by 2, it thought you wanted `a` twice! Now try `a+2`. Oops! Our first error. You'll notice that some error information is printed out that may or may not be helpful in identifying what has gone wrong. Try some other manipulations of the `a` object, like\n",
    "\n",
    "    type(a)\n",
    "    \n",
    "which will tell you the type of object it is\n",
    "\n",
    "    len(a)\n",
    "\n",
    "which will tell you the length of the list\n",
    "\n",
    "    sum(a)\n",
    "\n",
    "which will add all the elements of a. `type`, `len`, and `sum` are called *functions*. They perform some operation on the object inside parentheses (). To get more information about the `sum()` function, you can type \n",
    "\n",
    "    ?sum()\n",
    "    \n",
    "into IPython. Functions always have parentheses after them and the things that go inside the parentheses are called *arguments* of the function. In these simple examples, the only argument we passed to each function was the object `a` which we know to be a list including 1, 2, and 3. To access the first element of the list, you can call it by *index*, or by its location within the list. Try typing\n",
    "\n",
    "    a[0]\n",
    "    \n",
    "Two important things to note here:\n",
    "\n",
    "\n",
    "1. Collections of items can sometimes be called by *index*, or their position in the collection. In this case, `a` is a list, and we want a single element from it. The way to do that is to type `a[index of element]`.\n",
    "\n",
    "2. Python is *indexed at zero*, meaning the first item of a collection of items corresponds to the 0 position. For example, to access the first element of `a`, we call it by `a[0]`. To access the second element, we type `a[1]`, and so on. This peculiarity is common to many languages, and has several advantages that won't be discussed here. Simply know that to access the *n*th element of a collection, you actually need to reference the *n-1*th index.\n",
    "\n",
    "Try to access different elements of `a`. `a[1]` works, `a[2]` works, but `a[3]` throws an error. In this case, the error message is very helpful, and even explicitly states what you did wrong. Even though `a` is 3 elements long, since Python indexes things at 0, the index value 3 references the 4th element in the list, which doesn't exist! You can also *slice* the list, by specifying a range of index values with a colon :. Try\n",
    "\n",
    "    a[1:3]\n",
    "    \n",
    "This will give you everything after the first element and including the third element (the second and third elements). It is important to note that 1, 2, and 3 are special in the fact that they are numbers. Python knows that, and you can check for yourself what Python thinks about the first entry in the list by typing\n",
    "\n",
    "    type(a[0])\n",
    "    \n",
    "This is a chained command, because you are calling a value of the list `a` within the function `type()`. This is allowed in Python and is indeed common. Notice that the output shows `int`, which is short for integer. If you paid attention in math class, you know that this is appropriate for the number 1, which is what a[0] is. Since index calls are integers, and the values of the list `a` are integers, we run the risk of getting confused. Lets define another list, `b`, like this\n",
    "\n",
    "    b = ['a', 'b', 'c', 'd']\n",
    "    \n",
    "The apostrophe characters may be tedious to type, but they are important. They indicate that everything between each apostrophe is a *string*. Strings are things that aren't numbers such as letters or words. Remember that `a` is actually a list that we defined, and note that `'a'` is different. If we type \n",
    "\n",
    "    odd_list = [a,b]\n",
    "    odd_list\n",
    "    \n",
    "We will get a list of lists. To be clear, `a` corresponds to a *variable*, and `'a'` corresponds to a *string*. Variables don't exist until you define them. If you type some other thing, like\n",
    "\n",
    "    abc\n",
    "\n",
    "you'll get `NameError: name 'abc' is not defined`. This is the error you get when you try to call something that Python thinks is a variable, but has no value assigned to it yet. If you actually wanted the letters `abc`, you'd want to use a string instead. Try this instead\n",
    "\n",
    "    'abc'\n",
    "    \n",
    "The apostrophes let Python know you mean `abc` as a string and not a variable. \n",
    "\n",
    "Strings behave differently than numbers. Notice that if we run \n",
    "\n",
    "    sum(b)\n",
    "    \n",
    "we'll get an error. In this case, the error message doesn't really make sense. Nevertheless we know that taking the sum of the letters a-d doesn't make any sense, and therefore can't be done. This is an example of a runtime error. A syntax error might occur if we type \n",
    "\n",
    "    sum(b.)\n",
    "\n",
    "and in fact Python lets us know that we made a syntax error. Check what type one of the elements of the list are using the `type` function and indexing. You should discover that each element is an object of type `str` for string. \n",
    "\n",
    "If you haven't exited out of your IPython session since you've created both the `a` and `b` objects, they should both still be there. Try typing \n",
    "\n",
    "    whos\n",
    "    \n",
    "This will give you a listing of all defined variables from the current IPython session. You should see `a` and `b` there (along with other variables we've made), as well as some information about them. Even though we haven't worked with `a` in a while, it is still around. You can see this by typing `a`. Try making some more Python objects. Some examples are\n",
    "\n",
    "    c = 2\n",
    "    d = 12.3\n",
    "    e = \"raspberry\"\n",
    "\n",
    "Check their type. Try `c+d`. Try `a.append(c)`. Try `b.append(e)`. Examine `a` and `b` after *appending*, or adding, the other objects to it. Since `a` and `b` are lists, they have special *methods* associated with them, such as append(). To get more information about all of the available methods for lists, check out the [documentation](https://docs.python.org/2/tutorial/datastructures.html). Methods usually take the form `<object>.<method>()`, which is a different than functions which usually take the form `<function>(<arguments>)`.\n",
    "\n",
    "One more note about functions. Many functions take multiple arguments, and it can get complicated to keep them straight. That is why it is always good to view the [documentation](https://docs.python.org/2/library/functions.html) on the built-in functions you want to use. Lets look at the function `sorted()`. It takes an object and sorts it in ascending order. Try\n",
    "\n",
    "    sorted(a)\n",
    "    \n",
    "This will return a copy of the `a` object sorted in ascending order. Suppose we wanted to sort in descending order. The `sorted()` function takes an *optional argument*, which means that is doesn't have to be passed, called `reverse`. This optional argument defaults to **False**, meaning it will sort in ascending order if the argument is not passed. If we want to sort in descending or reverse order, we can type\n",
    "\n",
    "    sorted(a, reverse=True)\n",
    "    \n",
    "which will return a copy of `a` which has been sorted in reverse order. If we want to store that sorted list, we can type \n",
    "\n",
    "    a_rev = sorted(a, reverse=True)\n",
    "\n",
    "which will store the sorted list in a new object called `a_rev`. You can call the new object anything you want, I just chose the name `a_rev` arbitrarily. Try typing `whos` now, and you will see all the new objects we've created.\n",
    "\n",
    "Play with the objects. Look at the available methods and functions in the Python documentation. Functions that are currently available to you are called *built-in* functions, and you can Google them with something like \"python built-in functions\". The methods available depend on the objects you've created. There are more data structures than lists, which we will get into later. \n",
    "\n",
    "If you are feeling comfortable with IPython, variables, lists, and functions, we can move on. If not, keep playing with the IPython interpreter until you feel that you could open it up and create objects without looking at this tutorial.\n",
    "\n",
    "If you think you are ready, try to create a *dictionary*, which takes the form `{<key1>:<value1>, <key2>:<value2>, ...}`. When you think of dictionaries, sometimes it is helpful to remember what a regular dictionary is, with definitions of words. It is a listing of words, and for each word in the dictionary there is an associated definition. Words are like keys, and definitions are like values. To illustrate, create a dictionary like this:\n",
    "\n",
    "    plural_dict = {'dogs':'plural of dog', 'deer':'plural of deer', 'geese':'plural of goose'}\n",
    "    \n",
    "The syntax of a dictionary is a little complicated. The whole thing is wrapped in curly braces `{}`, and each entry is separated by a comma. The entries themselves look like `key:value`. It may take a while before you are comfortable working with dictionaries, but I'd simply like to point them out here so you know that there are more data structures than just lists. You access entries of the dictionary by *key* instead of *index*. Try the following:\n",
    "    \n",
    "    plural_dict[dogs]\n",
    "    plural_dict['dogs']\n",
    "    plural_dict[0]\n",
    "    \n",
    "Sometimes it is helpful to format code a certain way to make it more readable by humans. It is perfectly valid in Python to use multiple lines for one command, so long as it is done correctly. For example, the command below will create the exact same dictionary but is slightly easier to read by humans, since each entry is on a separate line. The last character in a line is what determines whether or not you will get a syntax error. Since the last character in each line is either the opening curly brace, a comma, or the closing curly brace, this is a valid multi-line command.  \n",
    "\n",
    "    plural_dict = {\n",
    "    'dogs':'plural of dog', \n",
    "    'deer':'plural of deer', \n",
    "    'geese':'plural of goose'\n",
    "    }\n",
    "    \n",
    "    \n",
    "One final thing about code formatting. Comments are a vital part of writing and understanding code. Sometimes you will write something a certain way, then forget why, and want to understand later. Comments within the code allow you to do that. Another reason for commenting code is so it is easier to read by others. If you write a great program and give it to a friend, (s)he might not know what is going on unless there are comments. Comments come after a hashtag (#) in Python. Try writing a line of code, then inserting a comment after it (or simply copy and paste the following)\n",
    "\n",
    "    2+2 # adding 2 and 2 together\n",
    "    2*2 # multiplying 2 and 2\n",
    "    2**2 # 2 to the power of 2\n",
    "    \n",
    "    # in fact, these are all equivalent\n",
    "    # and we can check by using the double equals ==\n",
    "    2+2 == 2*2 == 2**2\n",
    "    \n",
    "Everything after the hashtag is ignored by the interpreter and only serves as information for human readers. And finally, a note on = vs. ==. `=` is used to *assign* a value from right to left. That is, when we type `c=2` we are assigning the value 2 to the variable (or object) c. `==` is used to check if things are equal. If we type `2==2` we should get the output `True`. Try it out:\n",
    "\n",
    "    2=2\n",
    "    2==2\n",
    "    2==3\n",
    "    2=3\n",
    "\n",
    "To get out of IPython, type exit().\n",
    "\n",
    "\n",
    "#### IPython Notebooks\n",
    "\n",
    "IPython is great for learning code, but now that you have the skills to actually write sensible code you don't want it to just disappear when you exit out of IPython. IPython Notebooks make writing, documenting, displaying, and sharing code easier than ever. As I mentioned before, the document you are looking at is an IPython notebook. Not only can I format and display text easily, I can include code within the text. Take a look at the following:"
   ]
  },
  {
   "cell_type": "code",
   "execution_count": 8,
   "metadata": {
    "collapsed": false
   },
   "outputs": [
    {
     "data": {
      "text/plain": [
       "4"
      ]
     },
     "execution_count": 8,
     "metadata": {},
     "output_type": "execute_result"
    }
   ],
   "source": [
    "2+2 # adding 2 and 2 together"
   ]
  },
  {
   "cell_type": "code",
   "execution_count": 9,
   "metadata": {
    "collapsed": false
   },
   "outputs": [
    {
     "data": {
      "text/plain": [
       "4"
      ]
     },
     "execution_count": 9,
     "metadata": {},
     "output_type": "execute_result"
    }
   ],
   "source": [
    "2*2 # multiplying 2 and 2"
   ]
  },
  {
   "cell_type": "code",
   "execution_count": 10,
   "metadata": {
    "collapsed": false
   },
   "outputs": [
    {
     "data": {
      "text/plain": [
       "4"
      ]
     },
     "execution_count": 10,
     "metadata": {},
     "output_type": "execute_result"
    }
   ],
   "source": [
    "2**2 # 2 to the power of 2"
   ]
  },
  {
   "cell_type": "code",
   "execution_count": 11,
   "metadata": {
    "collapsed": false
   },
   "outputs": [
    {
     "data": {
      "text/plain": [
       "True"
      ]
     },
     "execution_count": 11,
     "metadata": {},
     "output_type": "execute_result"
    }
   ],
   "source": [
    "# in fact, these are all equivalent\n",
    "# and we can check by using the double equals ==\n",
    "2+2 == 2*2 == 2**2"
   ]
  },
  {
   "cell_type": "markdown",
   "metadata": {
    "collapsed": true
   },
   "source": [
    "Notice how this is the same thing from earlier that you entered into the IPython interpreter, but now you can do it inline with text and edit it more easily. Each block of text or code is called a *cell*. The cell I'm writing in is specically set to interpret the input as text (or *markdown* to be specific). The cell above this was configured to interpret input as *code*, and actually sends it to the IPython interpreter and receives a response which is printed as output. \n",
    "\n",
    "IPython notebooks make both teaching and learning code extremely convenient. If you have ipython-notebook installed on your machine, you can simply download this entire notebook and run the cells yourself. You can also access the Linux command line from an IPython notebook. Remember the `ls` command from earlier?"
   ]
  },
  {
   "cell_type": "code",
   "execution_count": 6,
   "metadata": {
    "collapsed": false
   },
   "outputs": [
    {
     "name": "stdout",
     "output_type": "stream",
     "text": [
      "README.md\n",
      "RemoteServer.ipynb\n",
      "RPy2 Tutorial - Part 1 - Linux and Python Tutorial.ipynb\n"
     ]
    }
   ],
   "source": [
    "%%bash\n",
    "\n",
    "# the cell magic %%bash allows us to enter things into the command line\n",
    "\n",
    "ls # shows the contents of my present working directory"
   ]
  },
  {
   "cell_type": "markdown",
   "metadata": {},
   "source": [
    "The %% character indicates that we are using a *cell magic*, in this case the *bash* cell magic. This says that everything in the cell should be interpreted by the command line (or BASH to be specific) instead of IPython. There are many cell magics that we won't worry about right now, but we might find this one useful. We can also run single-line commands through the Linux command line with the ! character like so:"
   ]
  },
  {
   "cell_type": "code",
   "execution_count": 7,
   "metadata": {
    "collapsed": false
   },
   "outputs": [
    {
     "name": "stdout",
     "output_type": "stream",
     "text": [
      "README.md\t    RPy2 Tutorial - Part 1 - Linux and Python Tutorial.ipynb\r\n",
      "RemoteServer.ipynb\r\n"
     ]
    }
   ],
   "source": [
    "!ls"
   ]
  },
  {
   "cell_type": "markdown",
   "metadata": {},
   "source": [
    "But normally, everything entered into a code cell will be sent to IPython for interpretation. We will use these extensively to teach the basics of coding in Python. It is important to point out the the RPi2 has its [own way to teach Python](https://www.raspberrypi.org/documentation/usage/python/). Go ahead and click Menu in the top right corner of the desktop, navigate to Programming, then click one of the Python icons. This is similar to IPython that we were working with through the command line but it has its own GUI. While that development environment may be good for some people, I think IPython notebooks are by far and away the best IDE for Python, and therefore very useful to learn and be able to teach. \n",
    "\n",
    "To install IPython Notebooks, run the following command in your command line (not IPython interpreter, but the Linux shell):\n",
    "\n",
    "    sudo apt-get install ipython-notebook\n",
    "    \n",
    "Once that is finished running, navigate to whatever directory you'd like to spawn the notebook server. Usually, the home directory (`cd ~`) is a good place to start. Once in the directory of your choice, type `ipython-notebook`. Some things should happen in the Terminal window and then a window should pop up in your browser. Success! This is what the homepage of your personal IPython Notebook server looks like. You might notice that the terminal that you spawned the notebook from is unwilling to take commands. That's because it is busy running the server, and you'll be unable to use it for anything else. If you'd like another command line available, simple open another one by clicking on Terminal (you can have as many open as you wish). To shut down the notebook server, go to the Terminal that is running it and hit CTRL+C. It will ask you if you're sure, and you should make sure you saved everything before shutting it down. Once you shut it down, all objects/variables will be lost that you created during the notebook session, but if you saved the code you used to make them you can always make them again. \n",
    "\n",
    "To create a new notebook to start coding in, click New near the top right and then Python 2 or Python 3, depending on which is installed on your machine. You might notice that one of the options was Terminal, and yes you can run a Terminal through your browser with IPython notebooks. Take a look around the notebook, including the menus. To run a cell, you hit CTRL+Enter or Shift+Enter.\n",
    "\n",
    "## Sample Code to Try"
   ]
  },
  {
   "cell_type": "code",
   "execution_count": 60,
   "metadata": {
    "collapsed": false
   },
   "outputs": [
    {
     "data": {
      "text/plain": [
       "[1, 2, 3, 6, 2, 3, 12, 5]"
      ]
     },
     "execution_count": 60,
     "metadata": {},
     "output_type": "execute_result"
    }
   ],
   "source": [
    "a = [1,2,3,6,2,3,12,5]\n",
    "a"
   ]
  },
  {
   "cell_type": "code",
   "execution_count": 61,
   "metadata": {
    "collapsed": false
   },
   "outputs": [
    {
     "data": {
      "text/plain": [
       "[1, 2, 2, 3, 3, 5, 6, 12]"
      ]
     },
     "execution_count": 61,
     "metadata": {},
     "output_type": "execute_result"
    }
   ],
   "source": [
    "sorted(a) # calling a function on a"
   ]
  },
  {
   "cell_type": "code",
   "execution_count": 62,
   "metadata": {
    "collapsed": false
   },
   "outputs": [
    {
     "data": {
      "text/plain": [
       "[12, 6, 5, 3, 3, 2, 2, 1]"
      ]
     },
     "execution_count": 62,
     "metadata": {},
     "output_type": "execute_result"
    }
   ],
   "source": [
    "sorted(a,reverse=True) # optional argument reverse"
   ]
  },
  {
   "cell_type": "code",
   "execution_count": 63,
   "metadata": {
    "collapsed": false
   },
   "outputs": [
    {
     "data": {
      "text/plain": [
       "list"
      ]
     },
     "execution_count": 63,
     "metadata": {},
     "output_type": "execute_result"
    }
   ],
   "source": [
    "type(a) # a is a list"
   ]
  },
  {
   "cell_type": "code",
   "execution_count": 64,
   "metadata": {
    "collapsed": false
   },
   "outputs": [
    {
     "data": {
      "text/plain": [
       "[1, 2, 3, 6, 2, 3, 12, 5]"
      ]
     },
     "execution_count": 64,
     "metadata": {},
     "output_type": "execute_result"
    }
   ],
   "source": [
    "a # remember what a looks like"
   ]
  },
  {
   "cell_type": "markdown",
   "metadata": {},
   "source": [
    "Notice a is not sorted. That's because the sorted() function operates on `a` and returns a sorted *copy* of `a`. If we wanted to store it, we'd have to do something like:"
   ]
  },
  {
   "cell_type": "code",
   "execution_count": 65,
   "metadata": {
    "collapsed": false
   },
   "outputs": [
    {
     "data": {
      "text/plain": [
       "[1, 2, 2, 3, 3, 5, 6, 12]"
      ]
     },
     "execution_count": 65,
     "metadata": {},
     "output_type": "execute_result"
    }
   ],
   "source": [
    "a_sorted = sorted(a)\n",
    "a_sorted"
   ]
  },
  {
   "cell_type": "code",
   "execution_count": 66,
   "metadata": {
    "collapsed": false
   },
   "outputs": [
    {
     "data": {
      "text/plain": [
       "[1, 2, 2, 3]"
      ]
     },
     "execution_count": 66,
     "metadata": {},
     "output_type": "execute_result"
    }
   ],
   "source": [
    "a_sorted[:4] # you can omit the first index if you want to start from the beginning"
   ]
  },
  {
   "cell_type": "code",
   "execution_count": 67,
   "metadata": {
    "collapsed": false
   },
   "outputs": [
    {
     "data": {
      "text/plain": [
       "[3, 5, 6, 12]"
      ]
     },
     "execution_count": 67,
     "metadata": {},
     "output_type": "execute_result"
    }
   ],
   "source": [
    "a_sorted[4:] # you can omit the last index if you want to go to the end"
   ]
  },
  {
   "cell_type": "code",
   "execution_count": 68,
   "metadata": {
    "collapsed": false
   },
   "outputs": [
    {
     "data": {
      "text/plain": [
       "[2, 2, 3, 3]"
      ]
     },
     "execution_count": 68,
     "metadata": {},
     "output_type": "execute_result"
    }
   ],
   "source": [
    "a_sorted[1:5] # taking a slice from the middle"
   ]
  },
  {
   "cell_type": "code",
   "execution_count": 69,
   "metadata": {
    "collapsed": false
   },
   "outputs": [
    {
     "data": {
      "text/plain": [
       "4.25"
      ]
     },
     "execution_count": 69,
     "metadata": {},
     "output_type": "execute_result"
    }
   ],
   "source": [
    "sum(a)/len(a) # the average value of a: sum / number of items"
   ]
  },
  {
   "cell_type": "markdown",
   "metadata": {},
   "source": [
    "## Challenge: \n",
    "\n",
    "Write code that takes `a` and `a_sorted` and combines them together. Then take it's average. See if that average is the same as the average of `a`.\n",
    "\n",
    "Hints: \n",
    "1. Combining two lists together is easy if you use a \"+\" operator\n",
    "2. Comparing two values means using `==`\n",
    "3. If you mess up, just run the following cell again to make sure you are working with the correct objects"
   ]
  },
  {
   "cell_type": "code",
   "execution_count": 75,
   "metadata": {
    "collapsed": true
   },
   "outputs": [],
   "source": [
    "a = [1,2,3,6,2,3,12,5]\n",
    "a_sorted = sorted(a)"
   ]
  },
  {
   "cell_type": "code",
   "execution_count": null,
   "metadata": {
    "collapsed": true
   },
   "outputs": [],
   "source": [
    "## Your code goes in the next 3 cells\n",
    "## It should take a and a_sorted and output True\n",
    "## Occasionally you should check to make sure you haven't modified a or a_sorted\n",
    "## If you have, simply run the cell above to get the correct objects\n",
    "\n",
    "\n",
    "# Step 1: Combining a and a_sorted\n",
    "\n",
    "\n"
   ]
  },
  {
   "cell_type": "code",
   "execution_count": null,
   "metadata": {
    "collapsed": true
   },
   "outputs": [],
   "source": [
    "# Step 2: Calculating and storing the averages of a and a the combined list\n",
    "\n",
    "\n"
   ]
  },
  {
   "cell_type": "code",
   "execution_count": null,
   "metadata": {
    "collapsed": true
   },
   "outputs": [],
   "source": [
    "# Step 3: Comparing the averages of a and the combined list\n",
    "\n",
    "\n"
   ]
  },
  {
   "cell_type": "code",
   "execution_count": null,
   "metadata": {
    "collapsed": true
   },
   "outputs": [],
   "source": [
    "## Bonus (no hints): Create a dictionary to store the averages of the objects\n",
    "\n",
    "# the dictionary should be keyed by something sensible, like a_avg and combined_avg\n",
    "# the values should be the averages\n",
    "# calling your_dict['a_avg'] should display 4.25\n",
    "\n",
    "\n"
   ]
  }
 ],
 "metadata": {
  "kernelspec": {
   "display_name": "Python 3",
   "language": "python",
   "name": "python3"
  },
  "language_info": {
   "codemirror_mode": {
    "name": "ipython",
    "version": 3
   },
   "file_extension": ".py",
   "mimetype": "text/x-python",
   "name": "python",
   "nbconvert_exporter": "python",
   "pygments_lexer": "ipython3",
   "version": "3.4.2"
  }
 },
 "nbformat": 4,
 "nbformat_minor": 0
}
