{
 "cells": [
  {
   "cell_type": "markdown",
   "metadata": {},
   "source": [
    "# Linux/Python Tutorial\n",
    "\n",
    "### Lesson 2: More advanced Python concepts and Git"
   ]
  },
  {
   "cell_type": "markdown",
   "metadata": {},
   "source": [
    "## Setting up IPython Notebooks and Git\n",
    "\n",
    "Since I have written all these in IPython notebooks, you'll get the most out of them if you can run the notebooks yourself. Before we get there we'll have to install ipython notebooks to run in Python 3. Run the following commands in your home directory. You might have to run the first two, then close and reopen your terminal before running the third.\n",
    "\n",
    "    sudo apt-get install python3-pip\n",
    "    pip3 install ipython[all]\n",
    "    ipython3 notebook\n",
    "    \n",
    "This will spawn a notebook server in your current directory and you won't be able to use that terminal window anymore. Something should pop up in your browser that looks like a listing of all your files and directories. If you spawned the notebook in your home directory (`cd ~`), then you'll be able to navigate through the filesystem easily. In the top right, you'll see a button that says *new*. If you click that, you'll see that you can open a text editor, make a directory, or even open up a terminal window in addition to creating a new notebook. Verify that under *notebooks*, it reads *Python 3* and not *Python 2*. That indicates that your code will be interpreted by the Python 3 interpreter instead of the Python 2 interpreter, which is important because all of my code is written in Python 3. We won't get into the details of that difference just yet.\n",
    "\n",
    "### Git and GitHub\n",
    "\n",
    "Git is a platform for software development. It makes it easy to share, make changes to, and *version control* software projects. While Git is extremely powerful and serves many functions, we will only cover the basics. Your RPi2 should already have it installed, but just to be sure lets check by typing \n",
    "    \n",
    "    which git \n",
    "    \n",
    "into the terminal. You should get something like `/usr/bin/git`. If you don't, download and install Git with \n",
    "\n",
    "    sudo apt-get install git\n",
    "    \n",
    "We're installing Git so that you can *clone*, or copy, the entire rpi2 *respository*. That way you will have all the files hosted in this repository on your own machine and you can run the IPython notebooks yourself. This will by default put a new directory called `rpi2` in whatever directory you're currently in. This is a time when you might want to think about and manage how things are organized in your filesystem. If you plan to clone a lot of repositories, you may want them all to be in one directory together. If you want your new directory to be available quickly when opening a terminal, you may want to just put it in your home directory. You could even put it in your `Downloads` directory, but I wouldn't recommend that since that directory will get clogged up with lots of stuff if you download things through your browser. If you'd like to make a new directory, navigate to the directory you'd like to put the new directory in and type \n",
    "\n",
    "    mkdir <name of new directory>\n",
    "    \n",
    "`mkdir` is short for *make directory*. If not, simply navigate to whatever directory you'd like to put the repository in and type \n",
    "\n",
    "    git clone https://github.com/dkmehrmann/rpi2.git\n",
    "    \n",
    "if you run an `ls`, you should see a new directory called `rpi2`. `cd` into that directory and type `ipython3 notebook`. A browser window should pop up and you should see the contents of the `rpi2` repository. It is very important that you have the contents of the `rpi2` repository because the rest of this tutorial will be taught with lots of code that you'll have to run yourself. To recap, and so you can attempt to troubleshoot if something should go wrong, the steps you need to take to get to this point are:\n",
    "\n",
    "1. Install Jupyter notebooks\n",
    "2. Install Git\n",
    "3. Clone this repository\n",
    "\n",
    "## Intermediate Python\n",
    "\n",
    "### Data Structures\n",
    "\n",
    "### If Statements and Loops\n",
    "\n",
    "### Functions\n",
    "\n",
    "### Modules"
   ]
  },
  {
   "cell_type": "code",
   "execution_count": null,
   "metadata": {
    "collapsed": true
   },
   "outputs": [],
   "source": []
  }
 ],
 "metadata": {
  "kernelspec": {
   "display_name": "Python 3",
   "language": "python",
   "name": "python3"
  },
  "language_info": {
   "codemirror_mode": {
    "name": "ipython",
    "version": 3
   },
   "file_extension": ".py",
   "mimetype": "text/x-python",
   "name": "python",
   "nbconvert_exporter": "python",
   "pygments_lexer": "ipython3",
   "version": "3.4.2"
  }
 },
 "nbformat": 4,
 "nbformat_minor": 0
}
