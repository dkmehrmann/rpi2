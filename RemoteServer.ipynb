{
 "cells": [
  {
   "cell_type": "markdown",
   "metadata": {},
   "source": [
    "# Remote Notebook Server on RPi2"
   ]
  },
  {
   "cell_type": "markdown",
   "metadata": {},
   "source": [
    "1. Set up SSH authentication with key pairs so there is no need to enter passwords\n",
    "\n",
    "2. Through SSH or on RPi2, run `ipython notebook --no-browser --port=xxxx`\n",
    "\n",
    "3. On local machine, run `ssh -N -f -L localhost:yyyy:localhost:xxxx <user>@<RPi IP Address>`\n",
    "\n",
    "4. Go to `http://localhost:yyyy/`\n",
    "\n",
    "Note: yyyy needs to be a port known to your browser as being \"secure\" i.e. 6000 will not work (but 6001 will).\n",
    "\n",
    "Help [here](http://wisdomthroughknowledge.blogspot.com/2012/07/accessing-ipython-notebook-remotely.html)\n"
   ]
  },
  {
   "cell_type": "code",
   "execution_count": 5,
   "metadata": {
    "collapsed": false
   },
   "outputs": [
    {
     "name": "stdout",
     "output_type": "stream",
     "text": [
      "Desktop    python_games\r\n",
      "Documents  RemoteServer.ipynb\r\n",
      "Downloads  RPy2 Tutorial - Part 1 - Linux and Python Tutorial.ipynb\r\n",
      "Music\t   Templates\r\n",
      "Pictures   Videos\r\n",
      "Public\r\n"
     ]
    }
   ],
   "source": [
    "!ls # Run from my laptop"
   ]
  },
  {
   "cell_type": "code",
   "execution_count": 7,
   "metadata": {
    "collapsed": false
   },
   "outputs": [
    {
     "name": "stdout",
     "output_type": "stream",
     "text": [
      "No LSB modules are available.\r\n",
      "Distributor ID:\tRaspbian\r\n",
      "Description:\tRaspbian GNU/Linux 8.0 (jessie)\r\n",
      "Release:\t8.0\r\n",
      "Codename:\tjessie\r\n"
     ]
    }
   ],
   "source": [
    "!lsb_release -a # Also run from my ubuntu laptop"
   ]
  },
  {
   "cell_type": "code",
   "execution_count": null,
   "metadata": {
    "collapsed": true
   },
   "outputs": [],
   "source": []
  }
 ],
 "metadata": {
  "kernelspec": {
   "display_name": "Python 3",
   "language": "python",
   "name": "python3"
  },
  "language_info": {
   "codemirror_mode": {
    "name": "ipython",
    "version": 3
   },
   "file_extension": ".py",
   "mimetype": "text/x-python",
   "name": "python",
   "nbconvert_exporter": "python",
   "pygments_lexer": "ipython3",
   "version": "3.4.2"
  }
 },
 "nbformat": 4,
 "nbformat_minor": 0
}
