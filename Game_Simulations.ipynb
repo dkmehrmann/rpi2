{
 "cells": [
  {
   "cell_type": "markdown",
   "metadata": {},
   "source": [
    "## War!"
   ]
  },
  {
   "cell_type": "code",
   "execution_count": 104,
   "metadata": {
    "collapsed": true
   },
   "outputs": [],
   "source": [
    "from random import shuffle"
   ]
  },
  {
   "cell_type": "code",
   "execution_count": 113,
   "metadata": {
    "collapsed": true
   },
   "outputs": [],
   "source": [
    "deck = 4*list(range(2,15))\n",
    "\n",
    "shuffle(deck)\n",
    "\n",
    "p1_hand = deck[:26]\n",
    "p2_hand = deck[26:]"
   ]
  },
  {
   "cell_type": "code",
   "execution_count": 114,
   "metadata": {
    "collapsed": false
   },
   "outputs": [],
   "source": [
    "def hand(pot=[]):\n",
    "    \n",
    "    p1_card = p1_hand[0]\n",
    "    p2_card = p2_hand[0] \n",
    "    del p1_hand[0]\n",
    "    del p2_hand[0]\n",
    "    #print(p1_hand)\n",
    "    #print(p2_hand)\n",
    "    #print(p1_card,p2_card)\n",
    "\n",
    "    pot.extend([p1_card,p2_card])\n",
    "    #print(pot)\n",
    "\n",
    "    if p1_card == p2_card:\n",
    "        print('WAR!')\n",
    "        pot.extend([p1_hand[0], p2_hand[0]])\n",
    "        #print(pot)\n",
    "        del p1_hand[0]\n",
    "        del p2_hand[0]\n",
    "        #print(p1_hand)\n",
    "        #print(p2_hand)\n",
    "\n",
    "        hand(pot)\n",
    "\n",
    "    if p1_card > p2_card:\n",
    "        p1_hand.extend(pot)\n",
    "    if p1_card < p2_card:\n",
    "        p2_hand.extend(pot)\n",
    "    pot=[]\n",
    "    #print(p1_hand)\n",
    "    #print(p2_hand)\n",
    "    \n",
    "    return p1_hand, p2_hand"
   ]
  },
  {
   "cell_type": "code",
   "execution_count": 115,
   "metadata": {
    "collapsed": false
   },
   "outputs": [
    {
     "name": "stdout",
     "output_type": "stream",
     "text": [
      "WAR!\n",
      "WAR!\n",
      "WAR!\n",
      "WAR!\n",
      "WAR!\n",
      "WAR!\n",
      "WAR!\n",
      "WAR!\n",
      "WAR!\n",
      "WAR!\n",
      "WAR!\n",
      "WAR!\n",
      "WAR!\n",
      "WAR!\n",
      "WAR!\n",
      "WAR!\n",
      "WAR!\n",
      "WAR!\n",
      "WAR!\n",
      "WAR!\n",
      "WAR!\n",
      "WAR!\n",
      "WAR!\n",
      "WAR!\n",
      "WAR!\n",
      "WAR!\n",
      "WAR!\n",
      "WAR!\n",
      "WAR!\n",
      "WAR!\n",
      "WAR!\n",
      "WAR!\n",
      "WAR!\n",
      "WAR!\n",
      "WAR!\n",
      "WAR!\n",
      "WAR!\n",
      "WAR!\n",
      "WAR!\n",
      "WAR!\n",
      "WAR!\n",
      "WAR!\n",
      "WAR!\n",
      "WAR!\n",
      "WAR!\n",
      "WAR!\n",
      "WAR!\n",
      "WAR!\n",
      "WAR!\n",
      "WAR!\n",
      "WAR!\n",
      "WAR!\n",
      "WAR!\n",
      "WAR!\n",
      "WAR!\n",
      "WAR!\n",
      "WAR!\n",
      "WAR!\n",
      "WAR!\n"
     ]
    }
   ],
   "source": [
    "j=1\n",
    "while j != 0:\n",
    "    try:\n",
    "        p1, p2 = hand(pot=[])\n",
    "        j=min([p1,p2])\n",
    "    except IndexError:\n",
    "        j=0\n",
    "    "
   ]
  },
  {
   "cell_type": "code",
   "execution_count": 116,
   "metadata": {
    "collapsed": false
   },
   "outputs": [
    {
     "data": {
      "text/plain": [
       "0"
      ]
     },
     "execution_count": 116,
     "metadata": {},
     "output_type": "execute_result"
    }
   ],
   "source": [
    "len(p1)"
   ]
  },
  {
   "cell_type": "code",
   "execution_count": 117,
   "metadata": {
    "collapsed": false
   },
   "outputs": [
    {
     "data": {
      "text/plain": [
       "52"
      ]
     },
     "execution_count": 117,
     "metadata": {},
     "output_type": "execute_result"
    }
   ],
   "source": [
    "len(p2)"
   ]
  },
  {
   "cell_type": "code",
   "execution_count": null,
   "metadata": {
    "collapsed": true
   },
   "outputs": [],
   "source": []
  }
 ],
 "metadata": {
  "kernelspec": {
   "display_name": "Python 3",
   "language": "python",
   "name": "python3"
  },
  "language_info": {
   "codemirror_mode": {
    "name": "ipython",
    "version": 3
   },
   "file_extension": ".py",
   "mimetype": "text/x-python",
   "name": "python",
   "nbconvert_exporter": "python",
   "pygments_lexer": "ipython3",
   "version": "3.4.2"
  }
 },
 "nbformat": 4,
 "nbformat_minor": 0
}
